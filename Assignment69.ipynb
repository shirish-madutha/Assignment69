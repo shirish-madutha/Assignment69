{
 "cells": [
  {
   "cell_type": "code",
   "execution_count": null,
   "id": "bdbaee4e-51be-4e95-8317-b802f6ba7eb4",
   "metadata": {},
   "outputs": [],
   "source": [
    "\"\"\" Q1. What is hierarchical clustering, and how is it different from other clustering techniques? \"\"\"\n",
    "\n",
    "# ans\n",
    "\"\"\"  Hierarchical Clustering Overview:\n",
    "\n",
    "Hierarchical clustering is a method of cluster analysis that builds a hierarchy of clusters. \n",
    "It is different from other clustering techniques in that it creates a tree of clusters, known as a dendrogram, illustrating the relationships between clusters at different levels of granularity. \"\"\""
   ]
  },
  {
   "cell_type": "code",
   "execution_count": null,
   "id": "bcfd877b-1ca1-451b-b6ac-5e33e345f181",
   "metadata": {},
   "outputs": [],
   "source": [
    "\"\"\" Q2. What are the two main types of hierarchical clustering algorithms? Describe each in brief. \"\"\"\n",
    "\n",
    "# ans\n",
    "\"\"\" Two Main Types of Hierarchical Clustering:\n",
    "\n",
    "Agglomerative Hierarchical Clustering:\n",
    "\n",
    "Description: Starts with individual data points as separate clusters and iteratively merges the closest clusters until only one cluster remains.\n",
    "Process: Bottom-up (data points to a single cluster).\n",
    "\n",
    "Divisive Hierarchical Clustering:\n",
    "\n",
    "Description: Starts with all data points in one cluster and recursively splits the least cohesive cluster until each data point is in its own cluster.\n",
    "Process: Top-down (single cluster to individual data points). \"\"\""
   ]
  },
  {
   "cell_type": "code",
   "execution_count": null,
   "id": "c6f809e8-61c3-47b4-9269-a18f12fde883",
   "metadata": {},
   "outputs": [],
   "source": [
    "\"\"\" Q3. How do you determine the distance between two clusters in hierarchical clustering, and what are the\n",
    "common distance metrics used? \"\"\"\n",
    "\n",
    "# ans\n",
    "\"\"\"  Determining Distance Between Clusters:\n",
    "\n",
    "Linkage Methods: Define the distance between two clusters based on the distances between their individual data points.\n",
    "Single Linkage: Minimum distance between points in different clusters.\n",
    "Complete Linkage: Maximum distance between points in different clusters.\n",
    "Average Linkage: Average distance between points in different clusters.\n",
    "Centroid Linkage: Distance between the centroids of two clusters. \"\"\""
   ]
  },
  {
   "cell_type": "code",
   "execution_count": null,
   "id": "944ffc0f-9604-45b5-8451-9988fa043f00",
   "metadata": {},
   "outputs": [],
   "source": [
    "\"\"\" Q4. How do you determine the optimal number of clusters in hierarchical clustering, and what are some\n",
    "common methods used for this purpose? \"\"\"\n",
    "\n",
    "# ans\n",
    "\"\"\" Optimal Number of Clusters in Hierarchical Clustering:\n",
    "\n",
    "Observing the Dendrogram: Look for a point where the fusion of clusters forms longer branches.\n",
    "Cutting the Dendrogram: Decide on the number of clusters by cutting the dendrogram at a specific height. \"\"\""
   ]
  },
  {
   "cell_type": "code",
   "execution_count": null,
   "id": "7f985da1-7650-4413-beaa-9fb10ba02198",
   "metadata": {},
   "outputs": [],
   "source": [
    "\"\"\" Q5. What are dendrograms in hierarchical clustering, and how are they useful in analyzing the results? \"\"\"\n",
    "\n",
    "# ans\n",
    "\"\"\" Dendrograms in Hierarchical Clustering:\n",
    "\n",
    "Definition: A dendrogram is a tree diagram that shows the arrangement of clusters.\n",
    "Usefulness:\n",
    "Illustrates the order and distances at which clusters are merged.\n",
    "Helps in visually identifying optimal cluster numbers. \"\"\""
   ]
  },
  {
   "cell_type": "code",
   "execution_count": null,
   "id": "55bcacc8-9017-402e-b209-82d1aefef649",
   "metadata": {},
   "outputs": [],
   "source": [
    "\"\"\" Q6. Can hierarchical clustering be used for both numerical and categorical data? If yes, how are the\n",
    "distance metrics different for each type of data? \"\"\"\n",
    "\n",
    "# ans\n",
    "\"\"\" Hierarchical Clustering for Numerical and Categorical Data:\n",
    "\n",
    "Numerical Data: Common distance metrics include Euclidean distance, Manhattan distance, or correlation-based distances.\n",
    "Categorical Data: Specialized metrics like the Gower distance, which considers differences in categorical variables. \"\"\""
   ]
  },
  {
   "cell_type": "code",
   "execution_count": null,
   "id": "8518d6fe-367f-4759-acb6-7d227741ad4c",
   "metadata": {},
   "outputs": [],
   "source": [
    "\"\"\" Q7. How can you use hierarchical clustering to identify outliers or anomalies in your data? \"\"\"\n",
    "\n",
    "# ans\n",
    "\"\"\" Hierarchical Clustering for Numerical and Categorical Data:\n",
    "\n",
    "Numerical Data: Common distance metrics include Euclidean distance, Manhattan distance, or correlation-based distances.\n",
    "Categorical Data: Specialized metrics like the Gower distance, which considers differences in categorical variables. \"\"\""
   ]
  }
 ],
 "metadata": {
  "kernelspec": {
   "display_name": "Python 3 (ipykernel)",
   "language": "python",
   "name": "python3"
  },
  "language_info": {
   "codemirror_mode": {
    "name": "ipython",
    "version": 3
   },
   "file_extension": ".py",
   "mimetype": "text/x-python",
   "name": "python",
   "nbconvert_exporter": "python",
   "pygments_lexer": "ipython3",
   "version": "3.10.8"
  }
 },
 "nbformat": 4,
 "nbformat_minor": 5
}
